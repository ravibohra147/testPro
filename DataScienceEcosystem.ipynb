{
 "cells": [
  {
   "cell_type": "code",
   "execution_count": 16,
   "metadata": {
    "tags": []
   },
   "outputs": [
    {
     "name": "stdout",
     "output_type": "stream",
     "text": [
      "# H1: Data Science Tools and Ecosystem\n"
     ]
    }
   ],
   "source": [
    "print(\"# H1: Data Science Tools and Ecosystem\")"
   ]
  },
  {
   "cell_type": "code",
   "execution_count": 17,
   "metadata": {
    "tags": []
   },
   "outputs": [
    {
     "name": "stdout",
     "output_type": "stream",
     "text": [
      "In this notebook, Data Science Tools and Ecosystem are summarized.\n"
     ]
    }
   ],
   "source": [
    "print(\"In this notebook, Data Science Tools and Ecosystem are summarized.\")"
   ]
  },
  {
   "cell_type": "code",
   "execution_count": 18,
   "metadata": {
    "tags": []
   },
   "outputs": [
    {
     "name": "stdout",
     "output_type": "stream",
     "text": [
      "Some of the popular languages that Data Scientists use are:\n",
      "1. Python\n",
      "2. R\n",
      "3. SQL\n"
     ]
    }
   ],
   "source": [
    "print(\"Some of the popular languages that Data Scientists use are:\")\n",
    "print(\"1. Python\")\n",
    "print(\"2. R\")\n",
    "print(\"3. SQL\")\n"
   ]
  },
  {
   "cell_type": "code",
   "execution_count": 19,
   "metadata": {
    "tags": []
   },
   "outputs": [
    {
     "name": "stdout",
     "output_type": "stream",
     "text": [
      "Some of the commonly used libraries used by Data Scientists include:\n",
      "1. Pandas\n",
      "2. NumPy\n",
      "3. Matplotlib\n"
     ]
    }
   ],
   "source": [
    "print(\"Some of the commonly used libraries used by Data Scientists include:\")\n",
    "print(\"1. Pandas\")\n",
    "print(\"2. NumPy\")\n",
    "print(\"3. Matplotlib\")\n"
   ]
  },
  {
   "cell_type": "code",
   "execution_count": 21,
   "metadata": {
    "tags": []
   },
   "outputs": [
    {
     "name": "stdout",
     "output_type": "stream",
     "text": [
      "\n",
      "| Data Science Tools |\n",
      "|--------------------|\n",
      "| Jupyter Notebook   |\n",
      "| RStudio            |\n",
      "| VS Code with Python extension |\n",
      "\n"
     ]
    }
   ],
   "source": [
    "table = \"\"\"\n",
    "| Data Science Tools |\n",
    "|--------------------|\n",
    "| Jupyter Notebook   |\n",
    "| RStudio            |\n",
    "| VS Code with Python extension |\n",
    "\"\"\"\n",
    "\n",
    "print(table)\n"
   ]
  },
  {
   "cell_type": "code",
   "execution_count": 22,
   "metadata": {
    "tags": []
   },
   "outputs": [
    {
     "name": "stdout",
     "output_type": "stream",
     "text": [
      "### Below are a few examples of evaluating arithmetic expressions in Python.\n"
     ]
    }
   ],
   "source": [
    "print(\"### Below are a few examples of evaluating arithmetic expressions in Python.\")"
   ]
  },
  {
   "cell_type": "code",
   "execution_count": 23,
   "metadata": {
    "tags": []
   },
   "outputs": [
    {
     "name": "stdout",
     "output_type": "stream",
     "text": [
      "17\n"
     ]
    }
   ],
   "source": [
    "# This is a simple arithmetic expression to multiply then add integers\n",
    "result = (3 * 4) + 5\n",
    "print(result)\n"
   ]
  },
  {
   "cell_type": "code",
   "execution_count": 24,
   "metadata": {
    "tags": []
   },
   "outputs": [
    {
     "name": "stdout",
     "output_type": "stream",
     "text": [
      "3.3333333333333335\n"
     ]
    }
   ],
   "source": [
    "# This will convert 200 minutes to hours by dividing by 60\n",
    "minutes = 200\n",
    "hours = minutes / 60\n",
    "print(hours)\n"
   ]
  },
  {
   "cell_type": "code",
   "execution_count": 25,
   "metadata": {
    "tags": []
   },
   "outputs": [
    {
     "name": "stdout",
     "output_type": "stream",
     "text": [
      "\n",
      "**Objectives:**\n",
      "\n",
      "- List popular languages for Data Science\n",
      "- Introduce arithmetic expressions in Python\n",
      "- Convert minutes to hours\n",
      "\n"
     ]
    }
   ],
   "source": [
    "cell = \"\"\"\n",
    "**Objectives:**\n",
    "\n",
    "- List popular languages for Data Science\n",
    "- Introduce arithmetic expressions in Python\n",
    "- Convert minutes to hours\n",
    "\"\"\"\n",
    "\n",
    "print(cell)\n"
   ]
  },
  {
   "cell_type": "code",
   "execution_count": 15,
   "metadata": {
    "tags": []
   },
   "outputs": [
    {
     "name": "stdout",
     "output_type": "stream",
     "text": [
      "\n",
      "## Author\n",
      "Ravindra Bohra\n",
      "\n"
     ]
    }
   ],
   "source": [
    "cell = \"\"\"\n",
    "## Author\n",
    "Ravindra Bohra\n",
    "\"\"\"\n",
    "\n",
    "print(cell)\n"
   ]
  }
 ],
 "metadata": {
  "kernelspec": {
   "display_name": "Python",
   "language": "python",
   "name": "conda-env-python-py"
  },
  "language_info": {
   "codemirror_mode": {
    "name": "ipython",
    "version": 3
   },
   "file_extension": ".py",
   "mimetype": "text/x-python",
   "name": "python",
   "nbconvert_exporter": "python",
   "pygments_lexer": "ipython3",
   "version": "3.7.12"
  }
 },
 "nbformat": 4,
 "nbformat_minor": 4
}
